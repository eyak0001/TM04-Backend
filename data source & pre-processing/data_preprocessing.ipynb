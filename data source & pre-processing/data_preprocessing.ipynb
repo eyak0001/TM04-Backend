{
 "cells": [
  {
   "cell_type": "code",
   "execution_count": null,
   "metadata": {},
   "outputs": [],
   "source": [
    "# Importing all the necessary libraries\n",
    "import pandas as pd\n",
    "import re\n"
   ]
  },
  {
   "cell_type": "code",
   "execution_count": null,
   "metadata": {},
   "outputs": [],
   "source": [
    "# Read the two CSV files\n",
    "df1 = pd.read_csv(\"cosmetic_notifications.csv\")\n",
    "df2 = pd.read_csv(\"cosmetic_products_with_risk_description.csv\") # Refer to create_description.ipynb for more details"
   ]
  },
  {
   "cell_type": "code",
   "execution_count": 4,
   "metadata": {},
   "outputs": [
    {
     "name": "stdout",
     "output_type": "stream",
     "text": [
      "=== First 10 entries of df1 ===\n",
      "\n",
      "        notif_no                                            product  \\\n",
      "0  NOT200706378K  La Maison Du Savon De Marseille 100g Argan Oil...   \n",
      "1  NOT200706384K  La Maison Du Savon De Marseille Shampoing Soli...   \n",
      "2  NOT200706392K  La Maison Du Savon De Marseille 100g Argan Oil...   \n",
      "3  NOT220707665K             I57 HYPNOBEAUTY WATER BOOSTER (ENERGY)   \n",
      "4  NOT220707660K             HELEN SEWARD MEDITER THERAPY SCRUB 6/P   \n",
      "5  NOT220707668K              EUNYUL Collagen Special Program Cream   \n",
      "6  NOT220707669K            EUNYUL Collagen Special Program Essence   \n",
      "7  NOT220707670K          EUNYUL Collagen Special Program Eye Cream   \n",
      "8  NOT220707699K  HSF NATURALS - JOJOBA HAIR SERUM WITH ORGANIC ...   \n",
      "9  NOT220707700K              HSF NATURALS - OCEANIC SEA SALT SCRUB   \n",
      "\n",
      "                                     company  date_notif  \n",
      "0  LA MAISON DU SAVON DE MARSEILLE SDN. BHD.  2022-07-25  \n",
      "1  LA MAISON DU SAVON DE MARSEILLE SDN. BHD.  2022-07-25  \n",
      "2  LA MAISON DU SAVON DE MARSEILLE SDN. BHD.  2022-07-25  \n",
      "3                           Aesthetic Centre  2022-07-25  \n",
      "4                             TOYAKO SDN BHD  2022-07-25  \n",
      "5                    FASHION INDEX SDN. BHD.  2022-07-25  \n",
      "6                    FASHION INDEX SDN. BHD.  2022-07-25  \n",
      "7                    FASHION INDEX SDN. BHD.  2022-07-25  \n",
      "8                     HSF NATURALS RESOURCES  2022-07-25  \n",
      "9                     HSF NATURALS RESOURCES  2022-07-25  \n"
     ]
    }
   ],
   "source": [
    "# Show the first 10 entries of df1\n",
    "print(\"=== First 10 entries of df1 ===\\n\")\n",
    "print(df1.head(10))"
   ]
  },
  {
   "cell_type": "code",
   "execution_count": 5,
   "metadata": {},
   "outputs": [
    {
     "name": "stdout",
     "output_type": "stream",
     "text": [
      "\n",
      "=== Read the first 10 entries of df2 ===\n",
      "\n",
      "        notif_no                                            product  \\\n",
      "0  NOT200603276K   DELUXE BEAUTY - ULTRA LIGHTENING CREAM PEARL ...   \n",
      "1  NOT180503436K          3RD SERIES YANKO FADE OUT CREAM DAY CREAM   \n",
      "2  NOT180503437K       3RD SERIES YANKO WHITENING CREAM NIGHT CREAM   \n",
      "3  NOT180503439K          5TH SERIES YANKO FADE OUT CREAM DAY CREAM   \n",
      "4  NOT180503440K       5TH SERIES YANKO WHITENING CREAM NIGHT CREAM   \n",
      "5  NOT180503441K               7TH SERIES YANKO WHITENING CREAM DAY   \n",
      "6  NOT180503442K             7TH SERIES YANKO WHITENING CREAM NIGHT   \n",
      "7  NOT221004660K  ABYRA SEAWEED SKIN CARE- SEAWEED CELL RENEWAL ...   \n",
      "8  NOT181003521K                        AILISI Acne Purifying Cream   \n",
      "9  NOT220202802K                       AIREE BEAUTYCARE NIGHT CREAM   \n",
      "\n",
      "                       holder                       manufacturer  \\\n",
      "0        LUNA GROUP SDN. BHD.               ROYAL INTERNATIONAL.   \n",
      "1           LURVEYA SDN. BHD.           Taiwan Biotech Co., Ltd.   \n",
      "2           LURVEYA SDN. BHD.           Taiwan Biotech Co., Ltd.   \n",
      "3           LURVEYA SDN. BHD.           Taiwan Biotech Co., Ltd.   \n",
      "4           LURVEYA SDN. BHD.           Taiwan Biotech Co., Ltd.   \n",
      "5           LURVEYA SDN. BHD.           Taiwan Biotech Co., Ltd.   \n",
      "6           LURVEYA SDN. BHD.           Taiwan Biotech Co., Ltd.   \n",
      "7           ABYRA STAR EMPIRE                 NEOCOSMED CO., LTD   \n",
      "8  Ai Li Si Beauty Enterprise  TAIWAN LADIES COSMETICS CO., LTD.   \n",
      "9  EVONIZ COSMETIC INDUSTRIES                     Yamni Industry   \n",
      "\n",
      "  substance_detected                                        Description  \n",
      "0            MERCURY  【MERCURY】Ingredient's risk: Toxic heavy metal ...  \n",
      "1            MERCURY  【MERCURY】Ingredient's risk: Toxic heavy metal ...  \n",
      "2            TRETNON  【TRETINOIN】Ingredient's risk: Severe skin irri...  \n",
      "3            MERCURY  【MERCURY】Ingredient's risk: Toxic heavy metal ...  \n",
      "4            TRETNON  【TRETINOIN】Ingredient's risk: Severe skin irri...  \n",
      "5            MERCURY  【MERCURY】Ingredient's risk: Toxic heavy metal ...  \n",
      "6            TRETNON  【TRETINOIN】Ingredient's risk: Severe skin irri...  \n",
      "7            MERCURY  【MERCURY】Ingredient's risk: Toxic heavy metal ...  \n",
      "8        CLINDAMYCIN  【CLINDAMYCIN】Ingredient's risk: Contributes to...  \n",
      "9            MERCURY  【MERCURY】Ingredient's risk: Toxic heavy metal ...  \n"
     ]
    }
   ],
   "source": [
    "print(\"\\n=== Read the first 10 entries of df2 ===\\n\")\n",
    "print(df2.head(10))"
   ]
  },
  {
   "cell_type": "code",
   "execution_count": 6,
   "metadata": {},
   "outputs": [
    {
     "name": "stdout",
     "output_type": "stream",
     "text": [
      "Index(['notif_no', 'product', 'company', 'date_notif'], dtype='object')\n",
      "Index(['notif_no', 'product', 'holder', 'manufacturer', 'substance_detected',\n",
      "       'Description'],\n",
      "      dtype='object')\n"
     ]
    }
   ],
   "source": [
    "# Show the columns of df1 and df2\n",
    "print(df1.columns)\n",
    "print(df2.columns)"
   ]
  },
  {
   "cell_type": "code",
   "execution_count": 7,
   "metadata": {},
   "outputs": [
    {
     "name": "stdout",
     "output_type": "stream",
     "text": [
      "Empty DataFrame\n",
      "Columns: [notif_no, product_x, company, date_notif, product_y, holder, manufacturer, substance_detected, Description]\n",
      "Index: []\n"
     ]
    }
   ],
   "source": [
    "# Merge the two dataframes df1 and df2 on the notif_no column\n",
    "common_notifs = pd.merge(df1, df2, on=\"notif_no\")\n",
    "\n",
    "# Check the columns of the merged dataframe\n",
    "print(common_notifs)"
   ]
  },
  {
   "cell_type": "code",
   "execution_count": 8,
   "metadata": {},
   "outputs": [
    {
     "name": "stdout",
     "output_type": "stream",
     "text": [
      "number of duplicated notif_no： 0\n"
     ]
    }
   ],
   "source": [
    "# Convert the notif_no column to 'string' datatype and remove any whitespaces\n",
    "df1['notif_no'] = df1['notif_no'].astype(str).str.strip()\n",
    "df2['notif_no'] = df2['notif_no'].astype(str).str.strip()\n",
    "\n",
    "# Check the duplicated notif_no between df1 and df2\n",
    "common = set(df1['notif_no']) & set(df2['notif_no'])\n",
    "print(\"number of duplicated notif_no：\", len(common))  # 0 if no duplicated notif_no"
   ]
  },
  {
   "cell_type": "code",
   "execution_count": 9,
   "metadata": {},
   "outputs": [],
   "source": [
    "# Create a 'status' column for df1 and df2 with the boolean values True and False\n",
    "df1['status'] = True # True represents 'Safe' product\n",
    "df2['status'] = False # False represents 'Unsafe' product"
   ]
  },
  {
   "cell_type": "code",
   "execution_count": 10,
   "metadata": {},
   "outputs": [
    {
     "name": "stdout",
     "output_type": "stream",
     "text": [
      "bool\n",
      "bool\n"
     ]
    }
   ],
   "source": [
    "# Check for correct data type of the 'status' column\n",
    "print(df1['status'].dtype)  # correct output should be: bool\n",
    "print(df2['status'].dtype) "
   ]
  },
  {
   "cell_type": "code",
   "execution_count": 11,
   "metadata": {},
   "outputs": [],
   "source": [
    "# Function for Data Preprocessing: Title case capitalisation\n",
    "def clean_text_column(series):\n",
    "    return series.astype(str).str.strip().str.lower().str.title()"
   ]
  },
  {
   "cell_type": "code",
   "execution_count": 12,
   "metadata": {},
   "outputs": [],
   "source": [
    "# Apply title case capitalisation on column 'product' and 'company' for df1 \n",
    "df1['product'] = clean_text_column(df1['product'])\n",
    "df1['company'] = clean_text_column(df1['company'])"
   ]
  },
  {
   "cell_type": "code",
   "execution_count": 13,
   "metadata": {},
   "outputs": [
    {
     "name": "stdout",
     "output_type": "stream",
     "text": [
      "First 10 entries of df1:\n",
      "\n",
      "        notif_no                                            product  \\\n",
      "0  NOT200706378K  La Maison Du Savon De Marseille 100G Argan Oil...   \n",
      "1  NOT200706384K  La Maison Du Savon De Marseille Shampoing Soli...   \n",
      "2  NOT200706392K  La Maison Du Savon De Marseille 100G Argan Oil...   \n",
      "3  NOT220707665K             I57 Hypnobeauty Water Booster (Energy)   \n",
      "4  NOT220707660K             Helen Seward Mediter Therapy Scrub 6/P   \n",
      "5  NOT220707668K              Eunyul Collagen Special Program Cream   \n",
      "6  NOT220707669K            Eunyul Collagen Special Program Essence   \n",
      "7  NOT220707670K          Eunyul Collagen Special Program Eye Cream   \n",
      "8  NOT220707699K  Hsf Naturals - Jojoba Hair Serum With Organic ...   \n",
      "9  NOT220707700K              Hsf Naturals - Oceanic Sea Salt Scrub   \n",
      "\n",
      "                                     company  date_notif  status  \n",
      "0  La Maison Du Savon De Marseille Sdn. Bhd.  2022-07-25    True  \n",
      "1  La Maison Du Savon De Marseille Sdn. Bhd.  2022-07-25    True  \n",
      "2  La Maison Du Savon De Marseille Sdn. Bhd.  2022-07-25    True  \n",
      "3                           Aesthetic Centre  2022-07-25    True  \n",
      "4                             Toyako Sdn Bhd  2022-07-25    True  \n",
      "5                    Fashion Index Sdn. Bhd.  2022-07-25    True  \n",
      "6                    Fashion Index Sdn. Bhd.  2022-07-25    True  \n",
      "7                    Fashion Index Sdn. Bhd.  2022-07-25    True  \n",
      "8                     Hsf Naturals Resources  2022-07-25    True  \n",
      "9                     Hsf Naturals Resources  2022-07-25    True  \n"
     ]
    }
   ],
   "source": [
    "# Check the first 10 entries of df1\n",
    "print(\"First 10 entries of df1:\\n\")\n",
    "print(df1.head(10))"
   ]
  },
  {
   "cell_type": "code",
   "execution_count": 14,
   "metadata": {},
   "outputs": [],
   "source": [
    "# Apply title case capitalisation on column 'product', 'holder', 'manufacturer', 'substance_detected' for df2\n",
    "df2['product'] = clean_text_column(df2['product'])\n",
    "df2['holder'] = clean_text_column(df2['holder'])\n",
    "df2['manufacturer'] = clean_text_column(df2['manufacturer'])\n",
    "df2['substance_detected'] = clean_text_column(df2['substance_detected'])"
   ]
  },
  {
   "cell_type": "code",
   "execution_count": 15,
   "metadata": {},
   "outputs": [
    {
     "name": "stdout",
     "output_type": "stream",
     "text": [
      "\n",
      "First 10 entries of df2:\n",
      "\n",
      "        notif_no                                            product  \\\n",
      "0  NOT200603276K  Deluxe Beauty - Ultra Lightening Cream Pearl P...   \n",
      "1  NOT180503436K          3Rd Series Yanko Fade Out Cream Day Cream   \n",
      "2  NOT180503437K       3Rd Series Yanko Whitening Cream Night Cream   \n",
      "3  NOT180503439K          5Th Series Yanko Fade Out Cream Day Cream   \n",
      "4  NOT180503440K       5Th Series Yanko Whitening Cream Night Cream   \n",
      "5  NOT180503441K               7Th Series Yanko Whitening Cream Day   \n",
      "6  NOT180503442K             7Th Series Yanko Whitening Cream Night   \n",
      "7  NOT221004660K  Abyra Seaweed Skin Care- Seaweed Cell Renewal ...   \n",
      "8  NOT181003521K                        Ailisi Acne Purifying Cream   \n",
      "9  NOT220202802K                       Airee Beautycare Night Cream   \n",
      "\n",
      "                       holder                       manufacturer  \\\n",
      "0        Luna Group Sdn. Bhd.               Royal International.   \n",
      "1           Lurveya Sdn. Bhd.           Taiwan Biotech Co., Ltd.   \n",
      "2           Lurveya Sdn. Bhd.           Taiwan Biotech Co., Ltd.   \n",
      "3           Lurveya Sdn. Bhd.           Taiwan Biotech Co., Ltd.   \n",
      "4           Lurveya Sdn. Bhd.           Taiwan Biotech Co., Ltd.   \n",
      "5           Lurveya Sdn. Bhd.           Taiwan Biotech Co., Ltd.   \n",
      "6           Lurveya Sdn. Bhd.           Taiwan Biotech Co., Ltd.   \n",
      "7           Abyra Star Empire                 Neocosmed Co., Ltd   \n",
      "8  Ai Li Si Beauty Enterprise  Taiwan Ladies Cosmetics Co., Ltd.   \n",
      "9  Evoniz Cosmetic Industries                     Yamni Industry   \n",
      "\n",
      "  substance_detected                                        Description  \\\n",
      "0            Mercury  【MERCURY】Ingredient's risk: Toxic heavy metal ...   \n",
      "1            Mercury  【MERCURY】Ingredient's risk: Toxic heavy metal ...   \n",
      "2            Tretnon  【TRETINOIN】Ingredient's risk: Severe skin irri...   \n",
      "3            Mercury  【MERCURY】Ingredient's risk: Toxic heavy metal ...   \n",
      "4            Tretnon  【TRETINOIN】Ingredient's risk: Severe skin irri...   \n",
      "5            Mercury  【MERCURY】Ingredient's risk: Toxic heavy metal ...   \n",
      "6            Tretnon  【TRETINOIN】Ingredient's risk: Severe skin irri...   \n",
      "7            Mercury  【MERCURY】Ingredient's risk: Toxic heavy metal ...   \n",
      "8        Clindamycin  【CLINDAMYCIN】Ingredient's risk: Contributes to...   \n",
      "9            Mercury  【MERCURY】Ingredient's risk: Toxic heavy metal ...   \n",
      "\n",
      "   status  \n",
      "0   False  \n",
      "1   False  \n",
      "2   False  \n",
      "3   False  \n",
      "4   False  \n",
      "5   False  \n",
      "6   False  \n",
      "7   False  \n",
      "8   False  \n",
      "9   False  \n"
     ]
    }
   ],
   "source": [
    "# Check the first 10 entries of df2\n",
    "print(\"\\nFirst 10 entries of df2:\\n\")\n",
    "print(df2.head(10))"
   ]
  },
  {
   "cell_type": "code",
   "execution_count": 16,
   "metadata": {},
   "outputs": [],
   "source": [
    "# Export the pre-processed data to CSV files\n",
    "df1.to_csv(\"cleaned_cosmetic_notifications.csv\", index=False) # df1 to 'cleaned_cosmetic_notifications.csv'\n",
    "df2.to_csv(\"cleaned_cosmetic_products_with_risk_description.csv\", index=False) # df2 to 'cleaned_cosmetic_products_with_risk_description.csv'"
   ]
  },
  {
   "cell_type": "code",
   "execution_count": 17,
   "metadata": {},
   "outputs": [
    {
     "name": "stdout",
     "output_type": "stream",
     "text": [
      "        notif_no                                            product  \\\n",
      "0  NOT200603276K  Deluxe Beauty - Ultra Lightening Cream Pearl P...   \n",
      "1  NOT180503436K          3Rd Series Yanko Fade Out Cream Day Cream   \n",
      "2  NOT180503437K       3Rd Series Yanko Whitening Cream Night Cream   \n",
      "3  NOT180503439K          5Th Series Yanko Fade Out Cream Day Cream   \n",
      "4  NOT180503440K       5Th Series Yanko Whitening Cream Night Cream   \n",
      "5  NOT180503441K               7Th Series Yanko Whitening Cream Day   \n",
      "6  NOT180503442K             7Th Series Yanko Whitening Cream Night   \n",
      "7  NOT221004660K  Abyra Seaweed Skin Care- Seaweed Cell Renewal ...   \n",
      "8  NOT181003521K                        Ailisi Acne Purifying Cream   \n",
      "9  NOT220202802K                       Airee Beautycare Night Cream   \n",
      "\n",
      "                      company                       manufacturer  \\\n",
      "0        Luna Group Sdn. Bhd.               Royal International.   \n",
      "1           Lurveya Sdn. Bhd.           Taiwan Biotech Co., Ltd.   \n",
      "2           Lurveya Sdn. Bhd.           Taiwan Biotech Co., Ltd.   \n",
      "3           Lurveya Sdn. Bhd.           Taiwan Biotech Co., Ltd.   \n",
      "4           Lurveya Sdn. Bhd.           Taiwan Biotech Co., Ltd.   \n",
      "5           Lurveya Sdn. Bhd.           Taiwan Biotech Co., Ltd.   \n",
      "6           Lurveya Sdn. Bhd.           Taiwan Biotech Co., Ltd.   \n",
      "7           Abyra Star Empire                 Neocosmed Co., Ltd   \n",
      "8  Ai Li Si Beauty Enterprise  Taiwan Ladies Cosmetics Co., Ltd.   \n",
      "9  Evoniz Cosmetic Industries                     Yamni Industry   \n",
      "\n",
      "  substance_detected                                        Description  \\\n",
      "0            Mercury  【MERCURY】Ingredient's risk: Toxic heavy metal ...   \n",
      "1            Mercury  【MERCURY】Ingredient's risk: Toxic heavy metal ...   \n",
      "2            Tretnon  【TRETINOIN】Ingredient's risk: Severe skin irri...   \n",
      "3            Mercury  【MERCURY】Ingredient's risk: Toxic heavy metal ...   \n",
      "4            Tretnon  【TRETINOIN】Ingredient's risk: Severe skin irri...   \n",
      "5            Mercury  【MERCURY】Ingredient's risk: Toxic heavy metal ...   \n",
      "6            Tretnon  【TRETINOIN】Ingredient's risk: Severe skin irri...   \n",
      "7            Mercury  【MERCURY】Ingredient's risk: Toxic heavy metal ...   \n",
      "8        Clindamycin  【CLINDAMYCIN】Ingredient's risk: Contributes to...   \n",
      "9            Mercury  【MERCURY】Ingredient's risk: Toxic heavy metal ...   \n",
      "\n",
      "   status date_notif  \n",
      "0   False        NaN  \n",
      "1   False        NaN  \n",
      "2   False        NaN  \n",
      "3   False        NaN  \n",
      "4   False        NaN  \n",
      "5   False        NaN  \n",
      "6   False        NaN  \n",
      "7   False        NaN  \n",
      "8   False        NaN  \n",
      "9   False        NaN  \n"
     ]
    }
   ],
   "source": [
    "# Read the 'cleaned_.csv' files \n",
    "df_1 = pd.read_csv(\"cleaned_cosmetic_notifications.csv\")\n",
    "df_2 = pd.read_csv(\"cleaned_cosmetic_products_with_risk_description.csv\")\n",
    "\n",
    "# Rename the column 'holder' to 'company' in df2. No change in the contents\n",
    "if 'holder' in df_2.columns:\n",
    "    df_2 = df_2.rename(columns={'holder': 'company'})\n",
    "\n",
    "# Ensure df1 and df2 have 'company' column (now both have the same column name) and then merge both dataframes\n",
    "merged_df = pd.concat([df_2, df_1], ignore_index=True, sort=False)\n",
    "\n",
    "# Save the merged dataframe to a new a CSV file named 'merged_cosmetic_data.csv'\n",
    "merged_df.to_csv(\"merged_cosmetic_data.csv\", index=False)\n",
    "\n",
    "# Show the first 10 entries of the merged dataframe\n",
    "print(merged_df.head(10))"
   ]
  },
  {
   "cell_type": "code",
   "execution_count": 18,
   "metadata": {},
   "outputs": [
    {
     "name": "stderr",
     "output_type": "stream",
     "text": [
      "/var/folders/n9/8kpr8zlj6j9gjvhh6lzh92v00000gn/T/ipykernel_20298/4271474394.py:2: DtypeWarning: Columns (3,4,5) have mixed types. Specify dtype option on import or set low_memory=False.\n",
      "  df = pd.read_csv(\"merged_cosmetic_data.csv\")\n"
     ]
    }
   ],
   "source": [
    "# Read the 'merged_cosmetic_data.csv' file\n",
    "df = pd.read_csv(\"merged_cosmetic_data.csv\")\n",
    "\n",
    "# Create a new variable to store the split rows\n",
    "split_rows = []\n",
    "\n",
    "# Split the 'Description' column into 'substance_detected' and 'Description' columns\n",
    "for _, row in df.iterrows():\n",
    "    notif_no = row['notif_no']\n",
    "    substances = []\n",
    "    descriptions = {}\n",
    "\n",
    "    # Step 1: Split the 'Description'\n",
    "    description_text = str(row['Description'])\n",
    "    matches = re.findall(r\"【(.*?)】(.*?)(?=(【|$))\", description_text, flags=re.DOTALL)\n",
    "    for match in matches:\n",
    "        name = match[0].strip().lower().capitalize()  # Standardise the case of the substance name\n",
    "        desc = match[1].strip().replace('\\n', ' ')\n",
    "        desc = desc.replace(\"||\", \"\").strip()         # Remove ||\n",
    "        desc = re.sub(r\"\\s+\", \" \", desc)              # Remove whitespace\n",
    "        descriptions[name] = desc\n",
    "\n",
    "    # Step 2: Split the substances\n",
    "    raw_substances = str(row['substance_detected'])\n",
    "    cleaned_substance_list = re.sub(r\"\\s+and\\s+\", \",\", raw_substances, flags=re.IGNORECASE)\n",
    "    substances = [s.strip().lower().capitalize() for s in cleaned_substance_list.split(\",\")]\n",
    "\n",
    "    # Step 3: Generate the split structure\n",
    "    for substance in substances:\n",
    "        desc = descriptions.get(substance, \"\")  # If the substance is not found, fill in an empty string\n",
    "        split_rows.append({\n",
    "            \"notif_no\": notif_no,\n",
    "            \"substance_detected\": substance,\n",
    "            \"Description\": desc\n",
    "        })\n",
    "\n",
    "# Convert the split rows to a dataframe\n",
    "df_split = pd.DataFrame(split_rows)\n",
    "\n",
    "# Drop duplicates and split into two dataframes\n",
    "df_risk_info = df_split[[\"notif_no\", \"substance_detected\"]].drop_duplicates() # For substance detected\n",
    "df_substance_desc = df_split[[\"substance_detected\", \"Description\"]].drop_duplicates() # For substance description\n",
    "\n",
    "# Save the two dataframes to CSV files\n",
    "df_risk_info.to_csv(\"cleaned_risk_info.csv\", index=False)\n",
    "df_substance_desc.to_csv(\"cleaned_substance_description.csv\", index=False)\n"
   ]
  },
  {
   "cell_type": "code",
   "execution_count": 19,
   "metadata": {},
   "outputs": [
    {
     "name": "stderr",
     "output_type": "stream",
     "text": [
      "/var/folders/n9/8kpr8zlj6j9gjvhh6lzh92v00000gn/T/ipykernel_20298/333171869.py:2: DtypeWarning: Columns (3,4,5) have mixed types. Specify dtype option on import or set low_memory=False.\n",
      "  df = pd.read_csv('merged_cosmetic_data.csv')\n"
     ]
    }
   ],
   "source": [
    "# Read the original merged data CSV file\n",
    "df = pd.read_csv('merged_cosmetic_data.csv')\n",
    "\n",
    "# Clean by keeping only the necessary columns\n",
    "columns_needed = ['notif_no', 'product', 'company', 'manufacturer', 'date_notif', 'status']\n",
    "cleaned_df = df[columns_needed]\n",
    "\n",
    "# Save the cleaned dataframe to a new CSV file named 'cleaned_product_info.csv'\n",
    "cleaned_df.to_csv('cleaned_product_info.csv', index=False)\n"
   ]
  },
  {
   "cell_type": "code",
   "execution_count": 22,
   "metadata": {},
   "outputs": [
    {
     "name": "stdout",
     "output_type": "stream",
     "text": [
      "\n",
      "=== Total Rows ===\n",
      "202835\n",
      "\n",
      "=== First 10 Entries ===\n",
      "        notif_no substance_detected\n",
      "0  NOT200603276K            Mercury\n",
      "1  NOT180503436K            Mercury\n",
      "2  NOT180503437K            Tretnon\n",
      "3  NOT180503439K            Mercury\n",
      "4  NOT180503440K            Tretnon\n",
      "5  NOT180503441K            Mercury\n",
      "6  NOT180503442K            Tretnon\n",
      "7  NOT221004660K            Mercury\n",
      "8  NOT181003521K        Clindamycin\n",
      "9  NOT220202802K            Mercury\n"
     ]
    }
   ],
   "source": [
    "# Read the cleaned_risk_info CSV file\n",
    "df_risk_info = pd.read_csv(\"cleaned_risk_info.csv\")\n",
    "\n",
    "# Check the total number of entries in the dataframe\n",
    "print(\"\\n=== Total Rows ===\")\n",
    "print(len(df_risk_info))\n",
    "\n",
    "# Display the first 10 entries of the dataframe\n",
    "print(\"\\n=== First 10 Entries ===\")\n",
    "print(df_risk_info.head(10))\n"
   ]
  },
  {
   "cell_type": "code",
   "execution_count": 23,
   "metadata": {},
   "outputs": [
    {
     "name": "stdout",
     "output_type": "stream",
     "text": [
      "\n",
      "=== Total Rows ===\n",
      "202790\n",
      "\n",
      "=== First 10 Entries ===\n",
      "        notif_no                                            product  \\\n",
      "0  NOT200603276K  Deluxe Beauty - Ultra Lightening Cream Pearl P...   \n",
      "1  NOT180503436K          3Rd Series Yanko Fade Out Cream Day Cream   \n",
      "2  NOT180503437K       3Rd Series Yanko Whitening Cream Night Cream   \n",
      "3  NOT180503439K          5Th Series Yanko Fade Out Cream Day Cream   \n",
      "4  NOT180503440K       5Th Series Yanko Whitening Cream Night Cream   \n",
      "5  NOT180503441K               7Th Series Yanko Whitening Cream Day   \n",
      "6  NOT180503442K             7Th Series Yanko Whitening Cream Night   \n",
      "7  NOT221004660K  Abyra Seaweed Skin Care- Seaweed Cell Renewal ...   \n",
      "8  NOT181003521K                        Ailisi Acne Purifying Cream   \n",
      "9  NOT220202802K                       Airee Beautycare Night Cream   \n",
      "\n",
      "                      company                       manufacturer date_notif  \\\n",
      "0        Luna Group Sdn. Bhd.               Royal International.        NaN   \n",
      "1           Lurveya Sdn. Bhd.           Taiwan Biotech Co., Ltd.        NaN   \n",
      "2           Lurveya Sdn. Bhd.           Taiwan Biotech Co., Ltd.        NaN   \n",
      "3           Lurveya Sdn. Bhd.           Taiwan Biotech Co., Ltd.        NaN   \n",
      "4           Lurveya Sdn. Bhd.           Taiwan Biotech Co., Ltd.        NaN   \n",
      "5           Lurveya Sdn. Bhd.           Taiwan Biotech Co., Ltd.        NaN   \n",
      "6           Lurveya Sdn. Bhd.           Taiwan Biotech Co., Ltd.        NaN   \n",
      "7           Abyra Star Empire                 Neocosmed Co., Ltd        NaN   \n",
      "8  Ai Li Si Beauty Enterprise  Taiwan Ladies Cosmetics Co., Ltd.        NaN   \n",
      "9  Evoniz Cosmetic Industries                     Yamni Industry        NaN   \n",
      "\n",
      "   status  \n",
      "0   False  \n",
      "1   False  \n",
      "2   False  \n",
      "3   False  \n",
      "4   False  \n",
      "5   False  \n",
      "6   False  \n",
      "7   False  \n",
      "8   False  \n",
      "9   False  \n"
     ]
    },
    {
     "name": "stderr",
     "output_type": "stream",
     "text": [
      "/var/folders/n9/8kpr8zlj6j9gjvhh6lzh92v00000gn/T/ipykernel_20298/2454496265.py:2: DtypeWarning: Columns (3) have mixed types. Specify dtype option on import or set low_memory=False.\n",
      "  df_product_info = pd.read_csv(\"cleaned_product_info.csv\")\n"
     ]
    }
   ],
   "source": [
    "# Read the cleaned_product_info CSV file\n",
    "df_product_info = pd.read_csv(\"cleaned_product_info.csv\")\n",
    "\n",
    "# Check the total number of entries in the dataframe\n",
    "print(\"\\n=== Total Rows ===\")\n",
    "print(len(df_product_info))\n",
    "\n",
    "# Display the first 10 entries of the dataframe\n",
    "print(\"\\n=== First 10 Entries ===\")\n",
    "print(df_product_info.head(10))\n"
   ]
  },
  {
   "cell_type": "code",
   "execution_count": 24,
   "metadata": {},
   "outputs": [
    {
     "name": "stdout",
     "output_type": "stream",
     "text": [
      "\n",
      "=== Total Rows ===\n",
      "21\n",
      "\n",
      "=== First 10 Entries ===\n",
      "  substance_detected                                        Description\n",
      "0            Mercury  Ingredient's risk: Toxic heavy metal that dama...\n",
      "1            Tretnon                                                NaN\n",
      "2        Clindamycin  Ingredient's risk: Contributes to antibiotic r...\n",
      "3       Hydroquinone  Ingredient's risk: May cause ochronosis (perma...\n",
      "4            Steroid  Ingredient's risk: Skin thinning, stretch mark...\n",
      "5    Diphenhydramine  Ingredient's risk: Drowsiness, dizziness, dry ...\n",
      "6          Tretinoin  Ingredient's risk: Severe skin irritation, inc...\n",
      "7  Methyl salicylate  Ingredient's risk: Highly toxic if ingested, c...\n",
      "8            Menthol  Ingredient's risk: Can cause severe irritation...\n",
      "9             Thymol  Ingredient's risk: Skin and mucous membrane ir...\n"
     ]
    }
   ],
   "source": [
    "# Read the cleaned_substance_description CSV file\n",
    "df_substance_desc = pd.read_csv(\"cleaned_substance_description.csv\")\n",
    "\n",
    "# Check the total number of entries in the dataframe\n",
    "print(\"\\n=== Total Rows ===\")\n",
    "print(len(df_substance_desc))\n",
    "\n",
    "# Display the first 10 entries of the dataframe\n",
    "print(\"\\n=== First 10 Entries ===\")\n",
    "print(df_substance_desc.head(10))\n",
    "\n",
    "\n"
   ]
  },
  {
   "cell_type": "code",
   "execution_count": null,
   "metadata": {},
   "outputs": [],
   "source": []
  }
 ],
 "metadata": {
  "kernelspec": {
   "display_name": "base",
   "language": "python",
   "name": "python3"
  },
  "language_info": {
   "codemirror_mode": {
    "name": "ipython",
    "version": 3
   },
   "file_extension": ".py",
   "mimetype": "text/x-python",
   "name": "python",
   "nbconvert_exporter": "python",
   "pygments_lexer": "ipython3",
   "version": "3.10.11"
  }
 },
 "nbformat": 4,
 "nbformat_minor": 2
}
